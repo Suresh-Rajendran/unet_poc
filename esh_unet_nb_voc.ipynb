{
  "cells": [
    {
      "cell_type": "markdown",
      "metadata": {
        "id": "nyE_MqOoaY_B"
      },
      "source": [
        "# Esh: Non-Monotonic Activation Function\n"
      ]
    },
    {
      "cell_type": "markdown",
      "metadata": {
        "id": "ooY7bdgmnnKW"
      },
      "source": [
        "## Install Packages"
      ]
    },
    {
      "cell_type": "code",
      "execution_count": 1,
      "metadata": {
        "colab": {
          "base_uri": "https://localhost:8080/"
        },
        "id": "9bUreYEMN0FF",
        "outputId": "fdd49ac9-fc7b-4004-b0fc-5e2090b6bba1"
      },
      "outputs": [
        {
          "output_type": "stream",
          "name": "stdout",
          "text": [
            "\u001b[2K     \u001b[90m━━━━━━━━━━━━━━━━━━━━━━━━━━━━━━━━━━━━━━━━\u001b[0m \u001b[32m2.0/2.0 MB\u001b[0m \u001b[31m74.4 MB/s\u001b[0m eta \u001b[36m0:00:00\u001b[0m\n",
            "\u001b[2K     \u001b[90m━━━━━━━━━━━━━━━━━━━━━━━━━━━━━━━━━━━━━━\u001b[0m \u001b[32m199.2/199.2 KB\u001b[0m \u001b[31m25.3 MB/s\u001b[0m eta \u001b[36m0:00:00\u001b[0m\n",
            "\u001b[?25h  Preparing metadata (setup.py) ... \u001b[?25l\u001b[?25hdone\n",
            "\u001b[2K     \u001b[90m━━━━━━━━━━━━━━━━━━━━━━━━━━━━━━━━━━━━━━━\u001b[0m \u001b[32m184.3/184.3 KB\u001b[0m \u001b[31m1.6 MB/s\u001b[0m eta \u001b[36m0:00:00\u001b[0m\n",
            "\u001b[2K     \u001b[90m━━━━━━━━━━━━━━━━━━━━━━━━━━━━━━━━━━━━━━━━\u001b[0m \u001b[32m62.7/62.7 KB\u001b[0m \u001b[31m8.1 MB/s\u001b[0m eta \u001b[36m0:00:00\u001b[0m\n",
            "\u001b[?25h  Building wheel for pathtools (setup.py) ... \u001b[?25l\u001b[?25hdone\n"
          ]
        }
      ],
      "source": [
        "!pip install -q wandb\n",
        "!pip install -q kaggle\n",
        "!pip install -q torchvision\n"
      ]
    },
    {
      "cell_type": "code",
      "execution_count": 3,
      "metadata": {
        "colab": {
          "base_uri": "https://localhost:8080/"
        },
        "id": "PaPhH7ko0kwJ",
        "outputId": "ab7ccbd8-1db7-4ede-bfdd-643cddcb4edd"
      },
      "outputs": [
        {
          "output_type": "stream",
          "name": "stdout",
          "text": [
            "Mounted at /content/gdrive\n"
          ]
        }
      ],
      "source": [
        "from google.colab import drive\n",
        "drive.mount('/content/gdrive')"
      ]
    },
    {
      "cell_type": "code",
      "source": [
        "!tar -xf /content/gdrive/MyDrive/ImgSeg/VOCtrainval_11-May-2012.tar"
      ],
      "metadata": {
        "id": "EiircxRkYbNq"
      },
      "execution_count": 4,
      "outputs": []
    },
    {
      "cell_type": "code",
      "execution_count": 5,
      "metadata": {
        "id": "7CkvW2H8ha8I",
        "colab": {
          "base_uri": "https://localhost:8080/"
        },
        "outputId": "7fc8cfa9-9e5b-4052-dcf2-1041fa73d7b2"
      },
      "outputs": [
        {
          "output_type": "stream",
          "name": "stdout",
          "text": [
            "Cloning into 'unet_poc'...\n",
            "remote: Enumerating objects: 55, done.\u001b[K\n",
            "remote: Counting objects: 100% (55/55), done.\u001b[K\n",
            "remote: Compressing objects: 100% (39/39), done.\u001b[K\n",
            "remote: Total 55 (delta 18), reused 49 (delta 12), pack-reused 0\u001b[K\n",
            "Unpacking objects: 100% (55/55), 154.97 KiB | 4.84 MiB/s, done.\n"
          ]
        }
      ],
      "source": [
        "!git clone https://github.com/Suresh-Rajendran/unet_poc.git"
      ]
    },
    {
      "cell_type": "code",
      "execution_count": 6,
      "metadata": {
        "id": "wZW2jEBAMRMN"
      },
      "outputs": [],
      "source": [
        "# Change Current Working Directory\n",
        "import os\n",
        "os.chdir(\"/content/unet_poc/\")"
      ]
    },
    {
      "cell_type": "code",
      "source": [
        "!python voc_unet.py"
      ],
      "metadata": {
        "colab": {
          "base_uri": "https://localhost:8080/"
        },
        "id": "8ufR5cSIYbWa",
        "outputId": "87fac0c1-3160-45a4-dae2-dd3b37915595"
      },
      "execution_count": null,
      "outputs": [
        {
          "output_type": "stream",
          "name": "stdout",
          "text": [
            "../aten/src/ATen/native/cuda/NLLLoss2d.cu:103: nll_loss2d_forward_kernel: block: [12,0,0], thread: [992,0,0] Assertion `t >= 0 && t < n_classes` failed.\n",
            "../aten/src/ATen/native/cuda/NLLLoss2d.cu:103: nll_loss2d_forward_kernel: block: [12,0,0], thread: [993,0,0] Assertion `t >= 0 && t < n_classes` failed.\n",
            "../aten/src/ATen/native/cuda/NLLLoss2d.cu:103: nll_loss2d_forward_kernel: block: [12,0,0], thread: [994,0,0] Assertion `t >= 0 && t < n_classes` failed.\n",
            "../aten/src/ATen/native/cuda/NLLLoss2d.cu:103: nll_loss2d_forward_kernel: block: [12,0,0], thread: [995,0,0] Assertion `t >= 0 && t < n_classes` failed.\n",
            "../aten/src/ATen/native/cuda/NLLLoss2d.cu:103: nll_loss2d_forward_kernel: block: [12,0,0], thread: [996,0,0] Assertion `t >= 0 && t < n_classes` failed.\n",
            "../aten/src/ATen/native/cuda/NLLLoss2d.cu:103: nll_loss2d_forward_kernel: block: [12,0,0], thread: [997,0,0] Assertion `t >= 0 && t < n_classes` failed.\n",
            "../aten/src/ATen/native/cuda/NLLLoss2d.cu:103: nll_loss2d_forward_kernel: block: [12,0,0], thread: [998,0,0] Assertion `t >= 0 && t < n_classes` failed.\n",
            "../aten/src/ATen/native/cuda/NLLLoss2d.cu:103: nll_loss2d_forward_kernel: block: [12,0,0], thread: [999,0,0] Assertion `t >= 0 && t < n_classes` failed.\n",
            "../aten/src/ATen/native/cuda/NLLLoss2d.cu:103: nll_loss2d_forward_kernel: block: [12,0,0], thread: [1000,0,0] Assertion `t >= 0 && t < n_classes` failed.\n",
            "../aten/src/ATen/native/cuda/NLLLoss2d.cu:103: nll_loss2d_forward_kernel: block: [12,0,0], thread: [972,0,0] Assertion `t >= 0 && t < n_classes` failed.\n",
            "../aten/src/ATen/native/cuda/NLLLoss2d.cu:103: nll_loss2d_forward_kernel: block: [12,0,0], thread: [973,0,0] Assertion `t >= 0 && t < n_classes` failed.\n",
            "../aten/src/ATen/native/cuda/NLLLoss2d.cu:103: nll_loss2d_forward_kernel: block: [12,0,0], thread: [974,0,0] Assertion `t >= 0 && t < n_classes` failed.\n",
            "../aten/src/ATen/native/cuda/NLLLoss2d.cu:103: nll_loss2d_forward_kernel: block: [12,0,0], thread: [975,0,0] Assertion `t >= 0 && t < n_classes` failed.\n",
            "../aten/src/ATen/native/cuda/NLLLoss2d.cu:103: nll_loss2d_forward_kernel: block: [12,0,0], thread: [976,0,0] Assertion `t >= 0 && t < n_classes` failed.\n",
            "../aten/src/ATen/native/cuda/NLLLoss2d.cu:103: nll_loss2d_forward_kernel: block: [12,0,0], thread: [977,0,0] Assertion `t >= 0 && t < n_classes` failed.\n",
            "../aten/src/ATen/native/cuda/NLLLoss2d.cu:103: nll_loss2d_forward_kernel: block: [12,0,0], thread: [978,0,0] Assertion `t >= 0 && t < n_classes` failed.\n",
            "../aten/src/ATen/native/cuda/NLLLoss2d.cu:103: nll_loss2d_forward_kernel: block: [12,0,0], thread: [979,0,0] Assertion `t >= 0 && t < n_classes` failed.\n",
            "../aten/src/ATen/native/cuda/NLLLoss2d.cu:103: nll_loss2d_forward_kernel: block: [12,0,0], thread: [980,0,0] Assertion `t >= 0 && t < n_classes` failed.\n",
            "../aten/src/ATen/native/cuda/NLLLoss2d.cu:103: nll_loss2d_forward_kernel: block: [12,0,0], thread: [981,0,0] Assertion `t >= 0 && t < n_classes` failed.\n",
            "../aten/src/ATen/native/cuda/NLLLoss2d.cu:103: nll_loss2d_forward_kernel: block: [12,0,0], thread: [982,0,0] Assertion `t >= 0 && t < n_classes` failed.\n",
            "../aten/src/ATen/native/cuda/NLLLoss2d.cu:103: nll_loss2d_forward_kernel: block: [12,0,0], thread: [983,0,0] Assertion `t >= 0 && t < n_classes` failed.\n",
            "../aten/src/ATen/native/cuda/NLLLoss2d.cu:103: nll_loss2d_forward_kernel: block: [12,0,0], thread: [984,0,0] Assertion `t >= 0 && t < n_classes` failed.\n",
            "../aten/src/ATen/native/cuda/NLLLoss2d.cu:103: nll_loss2d_forward_kernel: block: [12,0,0], thread: [985,0,0] Assertion `t >= 0 && t < n_classes` failed.\n",
            "../aten/src/ATen/native/cuda/NLLLoss2d.cu:103: nll_loss2d_forward_kernel: block: [12,0,0], thread: [986,0,0] Assertion `t >= 0 && t < n_classes` failed.\n",
            "Traceback (most recent call last):\n",
            "  File \"/content/voc_unet.py\", line 155, in <module>\n",
            "    main()\n",
            "  File \"/content/voc_unet.py\", line 127, in main\n",
            "    loss.backward()\n",
            "  File \"/usr/local/lib/python3.9/dist-packages/torch/_tensor.py\", line 487, in backward\n",
            "    torch.autograd.backward(\n",
            "  File \"/usr/local/lib/python3.9/dist-packages/torch/autograd/__init__.py\", line 200, in backward\n",
            "    Variable._execution_engine.run_backward(  # Calls into the C++ engine to run the backward pass\n",
            "RuntimeError: GET was unable to find an engine to execute this computation\n"
          ]
        }
      ]
    },
    {
      "cell_type": "markdown",
      "metadata": {
        "id": "NDqmJkrNl6C8"
      },
      "source": [
        "# Hyperparameter Sweeps"
      ]
    },
    {
      "cell_type": "code",
      "execution_count": 7,
      "metadata": {
        "id": "vN-y02QUNW7e",
        "colab": {
          "base_uri": "https://localhost:8080/"
        },
        "outputId": "d8e63dc6-5d19-462e-c813-75649bbcf602"
      },
      "outputs": [
        {
          "output_type": "stream",
          "name": "stdout",
          "text": [
            "\u001b[34m\u001b[1mwandb\u001b[0m: Appending key for api.wandb.ai to your netrc file: /root/.netrc\n"
          ]
        }
      ],
      "source": [
        "# Login to WandB\n",
        "!wandb login a96eb1d17152292d104d045304f8da02ab8fe0e1"
      ]
    },
    {
      "cell_type": "markdown",
      "source": [],
      "metadata": {
        "id": "-f7Gb6XyFgJZ"
      }
    },
    {
      "cell_type": "code",
      "execution_count": null,
      "metadata": {
        "id": "aLLTPfn_A7zn"
      },
      "outputs": [],
      "source": [
        "#import wandb\n",
        "#wandb.init(project=\"Esh_UNET_v2\", entity=\"pes_mtech_jun21_g3\")"
      ]
    },
    {
      "cell_type": "code",
      "execution_count": 36,
      "metadata": {
        "id": "RZ_cxnL9QBA6",
        "colab": {
          "base_uri": "https://localhost:8080/"
        },
        "outputId": "643f22ca-7bf9-48d7-d174-88d9e8bd1027"
      },
      "outputs": [
        {
          "output_type": "stream",
          "name": "stdout",
          "text": [
            "\u001b[34m\u001b[1mwandb\u001b[0m: Creating sweep from: esh_unet_train_sweep.yaml\n",
            "\u001b[34m\u001b[1mwandb\u001b[0m: Created sweep with ID: \u001b[33mzx7br95h\u001b[0m\n",
            "\u001b[34m\u001b[1mwandb\u001b[0m: View sweep at: \u001b[34m\u001b[4mhttps://wandb.ai/pes_mtech_jun21_g3/unet_poc/sweeps/zx7br95h\u001b[0m\n",
            "\u001b[34m\u001b[1mwandb\u001b[0m: Run sweep agent with: \u001b[33mwandb agent pes_mtech_jun21_g3/unet_poc/zx7br95h\u001b[0m\n"
          ]
        }
      ],
      "source": [
        "# Imports the parameter configuration for the sweep run. To add more hyperparameters in the suite, simply edit the sweep.yaml file.\n",
        "!wandb sweep esh_unet_train_sweep.yaml    # Outputs the Sweep ID"
      ]
    },
    {
      "cell_type": "markdown",
      "source": [],
      "metadata": {
        "id": "Te675HeVN_OR"
      }
    },
    {
      "cell_type": "code",
      "execution_count": 9,
      "metadata": {
        "collapsed": true,
        "id": "FyBqqaBHQdDJ"
      },
      "outputs": [],
      "source": [
        "#!wandb agent pes_mtech_jun21_g3/unet_poc/zx7br95h"
      ]
    },
    {
      "cell_type": "code",
      "source": [
        "#!wandb login a96eb1d17152292d104d045304f8da02ab8fe0e1\n",
        "!python /content/unet_poc/train_unet_voc_v1.py"
      ],
      "metadata": {
        "id": "dYjYm3rkdidd",
        "colab": {
          "base_uri": "https://localhost:8080/"
        },
        "outputId": "a800cf03-ad76-4e79-e089-ba88f53ba1e0"
      },
      "execution_count": 27,
      "outputs": [
        {
          "output_type": "stream",
          "name": "stdout",
          "text": [
            "\u001b[34m\u001b[1mwandb\u001b[0m: Currently logged in as: \u001b[33mrsuresh002\u001b[0m (\u001b[33mpes_mtech_jun21_g3\u001b[0m). Use \u001b[1m`wandb login --relogin`\u001b[0m to force relogin\n",
            "\u001b[34m\u001b[1mwandb\u001b[0m: Tracking run with wandb version 0.14.2\n",
            "\u001b[34m\u001b[1mwandb\u001b[0m: Run data is saved locally in \u001b[35m\u001b[1m/content/unet_poc/wandb/run-20230410_055939-s8zsjt6k\u001b[0m\n",
            "\u001b[34m\u001b[1mwandb\u001b[0m: Run \u001b[1m`wandb offline`\u001b[0m to turn off syncing.\n",
            "\u001b[34m\u001b[1mwandb\u001b[0m: Syncing run \u001b[33mcelestial-snowflake-18\u001b[0m\n",
            "\u001b[34m\u001b[1mwandb\u001b[0m: ⭐️ View project at \u001b[34m\u001b[4mhttps://wandb.ai/pes_mtech_jun21_g3/unet-pascal-voc\u001b[0m\n",
            "\u001b[34m\u001b[1mwandb\u001b[0m: 🚀 View run at \u001b[34m\u001b[4mhttps://wandb.ai/pes_mtech_jun21_g3/unet-pascal-voc/runs/s8zsjt6k\u001b[0m\n",
            "Epoch: 0, Train Loss: 0.5919807647233424\n",
            "Epoch: 0, Val Loss: 0.7405224291832893\n",
            "Epoch: 1, Train Loss: 0.514635116185831\n",
            "Epoch: 1, Val Loss: 0.5018642151748741\n",
            "Epoch: 2, Train Loss: 0.4838954673513122\n",
            "Epoch: 2, Val Loss: 0.4698277914917076\n",
            "Epoch: 3, Train Loss: 0.4606842583288317\n",
            "Epoch: 3, Val Loss: 0.4557155308487651\n",
            "Epoch: 4, Train Loss: 0.4410692116488581\n",
            "Epoch: 4, Val Loss: 0.43885577772999856\n",
            "Epoch: 5, Train Loss: 0.4278483355174894\n",
            "Epoch: 5, Val Loss: 0.4338194747547527\n",
            "Epoch: 6, Train Loss: 0.4110674132471499\n",
            "Epoch: 6, Val Loss: 0.445424157839555\n",
            "Epoch: 7, Train Loss: 0.39707410497509915\n",
            "Epoch: 7, Val Loss: 0.44082880445889067\n",
            "Epoch: 8, Train Loss: 0.3882668394109477\n",
            "Epoch: 8, Val Loss: 0.4082370547802894\n",
            "Epoch: 9, Train Loss: 0.3765444013735522\n",
            "Epoch: 9, Val Loss: 0.41844481000533473\n",
            "\u001b[34m\u001b[1mwandb\u001b[0m: Waiting for W&B process to finish... \u001b[32m(success).\u001b[0m\n",
            "\u001b[34m\u001b[1mwandb\u001b[0m: \n",
            "\u001b[34m\u001b[1mwandb\u001b[0m: Run history:\n",
            "\u001b[34m\u001b[1mwandb\u001b[0m:      Train Loss █▅▄▄▃▃▂▂▁▁\n",
            "\u001b[34m\u001b[1mwandb\u001b[0m:        Val Loss █▃▂▂▂▂▂▂▁▁\n",
            "\u001b[34m\u001b[1mwandb\u001b[0m:           epoch ▁▂▃▃▄▅▆▆▇█\n",
            "\u001b[34m\u001b[1mwandb\u001b[0m:   learning rate ▁▁▁▁▁▁▁▁▁▁\n",
            "\u001b[34m\u001b[1mwandb\u001b[0m: validation Dice █▃▂▂▂▂▂▂▁▁\n",
            "\u001b[34m\u001b[1mwandb\u001b[0m: \n",
            "\u001b[34m\u001b[1mwandb\u001b[0m: Run summary:\n",
            "\u001b[34m\u001b[1mwandb\u001b[0m:      Train Loss 0.37654\n",
            "\u001b[34m\u001b[1mwandb\u001b[0m:        Val Loss 0.41844\n",
            "\u001b[34m\u001b[1mwandb\u001b[0m:           epoch 9\n",
            "\u001b[34m\u001b[1mwandb\u001b[0m:   learning rate 0.0001\n",
            "\u001b[34m\u001b[1mwandb\u001b[0m: validation Dice 0.41844\n",
            "\u001b[34m\u001b[1mwandb\u001b[0m: \n",
            "\u001b[34m\u001b[1mwandb\u001b[0m: 🚀 View run \u001b[33mcelestial-snowflake-18\u001b[0m at: \u001b[34m\u001b[4mhttps://wandb.ai/pes_mtech_jun21_g3/unet-pascal-voc/runs/s8zsjt6k\u001b[0m\n",
            "\u001b[34m\u001b[1mwandb\u001b[0m: Synced 5 W&B file(s), 30 media file(s), 2 artifact file(s) and 0 other file(s)\n",
            "\u001b[34m\u001b[1mwandb\u001b[0m: Find logs at: \u001b[35m\u001b[1m./wandb/run-20230410_055939-s8zsjt6k/logs\u001b[0m\n"
          ]
        }
      ]
    },
    {
      "cell_type": "code",
      "source": [
        "import numpy as np\n",
        "import cv2\n",
        "import os\n",
        "\n",
        "# Replace these paths with the appropriate paths on your system\n",
        "input_folder = \"/content/VOCdevkit/VOC2012/SegmentationClass\"\n",
        "output_folder = \"/content/VOCdevkit/VOC2012/SegmentationClassBW\"\n",
        "\n",
        "if not os.path.exists(output_folder):\n",
        "    os.makedirs(output_folder)\n",
        "\n",
        "# Get a list of all the image files in the input folder\n",
        "image_files = [f for f in os.listdir(input_folder) if os.path.isfile(os.path.join(input_folder, f))]\n",
        "\n",
        "for img_file in image_files:\n",
        "    img_path = os.path.join(input_folder, img_file)\n",
        "    img = cv2.imread(img_path, cv2.IMREAD_GRAYSCALE)\n",
        "\n",
        "    # Threshold the image to convert it into a binary mask\n",
        "    _, binary_mask = cv2.threshold(img, 0, 255, cv2.THRESH_BINARY)\n",
        "\n",
        "    # Save the binary mask to the output folder\n",
        "    cv2.imwrite(os.path.join(output_folder, img_file), binary_mask)"
      ],
      "metadata": {
        "id": "8kYF7C_NrqhQ"
      },
      "execution_count": 24,
      "outputs": []
    }
  ],
  "metadata": {
    "accelerator": "GPU",
    "colab": {
      "machine_shape": "hm",
      "provenance": []
    },
    "gpuClass": "standard",
    "kernelspec": {
      "display_name": "Python 3",
      "language": "python",
      "name": "python3"
    },
    "language_info": {
      "codemirror_mode": {
        "name": "ipython",
        "version": 3
      },
      "file_extension": ".py",
      "mimetype": "text/x-python",
      "name": "python",
      "nbconvert_exporter": "python",
      "pygments_lexer": "ipython3",
      "version": "3.8.8"
    }
  },
  "nbformat": 4,
  "nbformat_minor": 0
}