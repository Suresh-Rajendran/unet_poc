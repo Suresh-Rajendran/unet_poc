{
  "cells": [
    {
      "cell_type": "markdown",
      "metadata": {
        "id": "nyE_MqOoaY_B"
      },
      "source": [
        "# Esh: Non-Monotonic Activation Function\n"
      ]
    },
    {
      "cell_type": "markdown",
      "metadata": {
        "id": "ooY7bdgmnnKW"
      },
      "source": [
        "## Install Packages"
      ]
    },
    {
      "cell_type": "code",
      "execution_count": null,
      "metadata": {
        "id": "9bUreYEMN0FF",
        "colab": {
          "base_uri": "https://localhost:8080/"
        },
        "outputId": "738e2603-9ca3-4847-c234-c8948be18d6c"
      },
      "outputs": [
        {
          "output_type": "stream",
          "name": "stdout",
          "text": [
            "\u001b[2K     \u001b[90m━━━━━━━━━━━━━━━━━━━━━━━━━━━━━━━━━━━━━━━━\u001b[0m \u001b[32m2.0/2.0 MB\u001b[0m \u001b[31m56.8 MB/s\u001b[0m eta \u001b[36m0:00:00\u001b[0m\n",
            "\u001b[2K     \u001b[90m━━━━━━━━━━━━━━━━━━━━━━━━━━━━━━━━━━━━━━━\u001b[0m \u001b[32m199.2/199.2 kB\u001b[0m \u001b[31m1.3 MB/s\u001b[0m eta \u001b[36m0:00:00\u001b[0m\n",
            "\u001b[2K     \u001b[90m━━━━━━━━━━━━━━━━━━━━━━━━━━━━━━━━━━━━━━\u001b[0m \u001b[32m184.3/184.3 kB\u001b[0m \u001b[31m11.6 MB/s\u001b[0m eta \u001b[36m0:00:00\u001b[0m\n",
            "\u001b[?25h  Preparing metadata (setup.py) ... \u001b[?25l\u001b[?25hdone\n",
            "\u001b[2K     \u001b[90m━━━━━━━━━━━━━━━━━━━━━━━━━━━━━━━━━━━━━━━━\u001b[0m \u001b[32m62.7/62.7 kB\u001b[0m \u001b[31m8.5 MB/s\u001b[0m eta \u001b[36m0:00:00\u001b[0m\n",
            "\u001b[?25h  Building wheel for pathtools (setup.py) ... \u001b[?25l\u001b[?25hdone\n"
          ]
        }
      ],
      "source": [
        "!pip install -q wandb\n",
        "!pip install -q kaggle\n",
        "!pip install -q torchvision\n",
        "!pip install -q pycocotools"
      ]
    },
    {
      "cell_type": "code",
      "execution_count": null,
      "metadata": {
        "colab": {
          "base_uri": "https://localhost:8080/"
        },
        "id": "PaPhH7ko0kwJ",
        "outputId": "5fc98133-c95f-47c2-bd07-9afbba99eb70"
      },
      "outputs": [
        {
          "output_type": "stream",
          "name": "stdout",
          "text": [
            "Mounted at /content/gdrive\n"
          ]
        }
      ],
      "source": [
        "from google.colab import drive\n",
        "drive.mount('/content/gdrive')"
      ]
    },
    {
      "cell_type": "code",
      "source": [
        "# Change Current Working Directory\n",
        "!mkdir -p data/coco\n",
        "!unzip -q /content/gdrive/MyDrive/ImgSeg/train2017.zip -d data/coco/train\n",
        "!unzip -q /content/gdrive/MyDrive/ImgSeg/val2017.zip -d data/coco/val\n",
        "!unzip -q /content/gdrive/MyDrive/ImgSeg/annotations_trainval2017.zip -d data/coco/annotations"
      ],
      "metadata": {
        "id": "EiircxRkYbNq"
      },
      "execution_count": null,
      "outputs": []
    },
    {
      "cell_type": "code",
      "execution_count": null,
      "metadata": {
        "id": "7CkvW2H8ha8I",
        "colab": {
          "base_uri": "https://localhost:8080/"
        },
        "outputId": "4cf360d1-d40a-4045-862b-29a502bdec81"
      },
      "outputs": [
        {
          "output_type": "stream",
          "name": "stdout",
          "text": [
            "Cloning into 'unet_coco_v1'...\n",
            "remote: Enumerating objects: 104, done.\u001b[K\n",
            "remote: Counting objects: 100% (104/104), done.\u001b[K\n",
            "remote: Compressing objects: 100% (74/74), done.\u001b[K\n",
            "remote: Total 104 (delta 52), reused 78 (delta 26), pack-reused 0\u001b[K\n",
            "Receiving objects: 100% (104/104), 167.61 KiB | 10.47 MiB/s, done.\n",
            "Resolving deltas: 100% (52/52), done.\n"
          ]
        }
      ],
      "source": [
        "!git clone https://github.com/Suresh-Rajendran/unet_poc.git unet_coco_v1"
      ]
    },
    {
      "cell_type": "code",
      "execution_count": 32,
      "metadata": {
        "id": "wZW2jEBAMRMN"
      },
      "outputs": [],
      "source": [
        "import os\n",
        "os.chdir('/content/unet_coco_v1')"
      ]
    },
    {
      "cell_type": "markdown",
      "metadata": {
        "id": "NDqmJkrNl6C8"
      },
      "source": [
        "# Hyperparameter Sweeps"
      ]
    },
    {
      "cell_type": "code",
      "execution_count": 34,
      "metadata": {
        "id": "vN-y02QUNW7e",
        "colab": {
          "base_uri": "https://localhost:8080/"
        },
        "outputId": "71314ab4-4e03-4d7e-99c5-2bb747d8fb8d"
      },
      "outputs": [
        {
          "output_type": "stream",
          "name": "stdout",
          "text": [
            "\u001b[34m\u001b[1mwandb\u001b[0m: Appending key for api.wandb.ai to your netrc file: /root/.netrc\n"
          ]
        }
      ],
      "source": [
        "# Login to WandB\n",
        "!wandb login a96eb1d17152292d104d045304f8da02ab8fe0e1"
      ]
    },
    {
      "cell_type": "markdown",
      "source": [],
      "metadata": {
        "id": "-f7Gb6XyFgJZ"
      }
    },
    {
      "cell_type": "code",
      "execution_count": null,
      "metadata": {
        "id": "aLLTPfn_A7zn"
      },
      "outputs": [],
      "source": [
        "#import wandb\n",
        "#wandb.init(project=\"Esh_UNET_v2\", entity=\"pes_mtech_jun21_g3\")"
      ]
    },
    {
      "cell_type": "code",
      "execution_count": 38,
      "metadata": {
        "id": "RZ_cxnL9QBA6",
        "colab": {
          "base_uri": "https://localhost:8080/"
        },
        "outputId": "86124851-fda3-48bb-aa2c-0a2ba39a6df9"
      },
      "outputs": [
        {
          "output_type": "stream",
          "name": "stdout",
          "text": [
            "\u001b[34m\u001b[1mwandb\u001b[0m: Creating sweep from: esh_unet_train_sweep_coco.yaml\n",
            "\u001b[34m\u001b[1mwandb\u001b[0m: Created sweep with ID: \u001b[33mb50odsk0\u001b[0m\n",
            "\u001b[34m\u001b[1mwandb\u001b[0m: View sweep at: \u001b[34m\u001b[4mhttps://wandb.ai/pes_mtech_jun21_g3/unet_coco_v1/sweeps/b50odsk0\u001b[0m\n",
            "\u001b[34m\u001b[1mwandb\u001b[0m: Run sweep agent with: \u001b[33mwandb agent pes_mtech_jun21_g3/unet_coco_v1/b50odsk0\u001b[0m\n"
          ]
        }
      ],
      "source": [
        "# Imports the parameter configuration for the sweep run. To add more hyperparameters in the suite, simply edit the sweep.yaml file.\n",
        "!wandb sweep esh_unet_train_sweep_coco.yaml    # Outputs the Sweep ID"
      ]
    },
    {
      "cell_type": "markdown",
      "source": [],
      "metadata": {
        "id": "Te675HeVN_OR"
      }
    },
    {
      "cell_type": "code",
      "source": [
        "import os\n",
        "os.environ['CUDA_LAUNCH_BLOCKING'] = \"1\""
      ],
      "metadata": {
        "id": "XvyoYIsuMR7_"
      },
      "execution_count": 36,
      "outputs": []
    },
    {
      "cell_type": "code",
      "execution_count": 39,
      "metadata": {
        "collapsed": true,
        "id": "FyBqqaBHQdDJ",
        "colab": {
          "base_uri": "https://localhost:8080/",
          "height": 1000
        },
        "outputId": "0f6a8d9c-8f48-4a78-8dd7-ee6812faa13e"
      },
      "outputs": [
        {
          "output_type": "stream",
          "name": "stdout",
          "text": [
            "\u001b[34m\u001b[1mwandb\u001b[0m: Starting wandb agent 🕵️\n",
            "2023-04-17 08:14:06,818 - wandb.wandb_agent - INFO - Running runs: []\n",
            "2023-04-17 08:14:07,194 - wandb.wandb_agent - INFO - Agent received command: run\n",
            "2023-04-17 08:14:07,195 - wandb.wandb_agent - INFO - Agent starting run with config:\n",
            "\tact: relu\n",
            "\tbatch_size: 8\n",
            "\tepochs: 2\n",
            "\toptimizer: Adam\n",
            "\tversion: unet\n",
            "2023-04-17 08:14:07,196 - wandb.wandb_agent - INFO - About to run command: /usr/bin/env python train_unet_coco.py --act=relu --batch_size=8 --epochs=2 --optimizer=Adam --version=unet\n",
            "\u001b[34m\u001b[1mwandb\u001b[0m: Currently logged in as: \u001b[33mrsuresh002\u001b[0m (\u001b[33mpes_mtech_jun21_g3\u001b[0m). Use \u001b[1m`wandb login --relogin`\u001b[0m to force relogin\n",
            "\u001b[34m\u001b[1mwandb\u001b[0m: \u001b[33mWARNING\u001b[0m Ignored wandb.init() arg project when running a sweep.\n",
            "\u001b[34m\u001b[1mwandb\u001b[0m: Tracking run with wandb version 0.14.2\n",
            "\u001b[34m\u001b[1mwandb\u001b[0m: Run data is saved locally in \u001b[35m\u001b[1m/content/unet_coco_v1/wandb/run-20230417_081410-q4yghy0f\u001b[0m\n",
            "\u001b[34m\u001b[1mwandb\u001b[0m: Run \u001b[1m`wandb offline`\u001b[0m to turn off syncing.\n",
            "\u001b[34m\u001b[1mwandb\u001b[0m: Syncing run \u001b[33mzany-sweep-1\u001b[0m\n",
            "\u001b[34m\u001b[1mwandb\u001b[0m: ⭐️ View project at \u001b[34m\u001b[4mhttps://wandb.ai/pes_mtech_jun21_g3/unet_coco_v1\u001b[0m\n",
            "\u001b[34m\u001b[1mwandb\u001b[0m: 🧹 View sweep at \u001b[34m\u001b[4mhttps://wandb.ai/pes_mtech_jun21_g3/unet_coco_v1/sweeps/b50odsk0\u001b[0m\n",
            "\u001b[34m\u001b[1mwandb\u001b[0m: 🚀 View run at \u001b[34m\u001b[4mhttps://wandb.ai/pes_mtech_jun21_g3/unet_coco_v1/runs/q4yghy0f\u001b[0m\n",
            "INFO: Using device cuda\n",
            "relu\n",
            "relu\n",
            "relu\n",
            "relu\n",
            "relu\n",
            "relu\n",
            "relu\n",
            "relu\n",
            "relu\n",
            "relu\n",
            "relu\n",
            "relu\n",
            "relu\n",
            "relu\n",
            "relu\n",
            "relu\n",
            "relu\n",
            "relu\n",
            "INFO: Network:\n",
            "\t3 input channels\n",
            "\t21 output channels (classes)\n",
            "\tTransposed conv upscaling\n",
            "2023-04-17 08:14:12,206 - wandb.wandb_agent - INFO - Running runs: ['q4yghy0f']\n",
            "INFO: Creating dataset with 1000 examples\n",
            "INFO: Scanning mask files to determine unique values\n",
            "100% 1000/1000 [00:53<00:00, 18.79it/s]\n",
            "INFO: Unique mask values: [[0, 0, 0], [0, 202, 234], [1, 199, 135], [3, 36, 30], [4, 153, 53], [4, 234, 51], [7, 47, 121], [10, 117, 112], [16, 15, 47], [20, 41, 214], [24, 56, 78], [25, 244, 80], [29, 41, 95], [29, 123, 40], [30, 84, 194], [31, 160, 29], [31, 206, 173], [35, 34, 120], [37, 109, 135], [40, 150, 185], [43, 248, 35], [48, 49, 220], [52, 44, 216], [55, 127, 98], [64, 65, 243], [67, 178, 35], [67, 242, 124], [70, 252, 46], [73, 135, 71], [80, 224, 154], [81, 216, 32], [81, 216, 174], [82, 0, 165], [83, 189, 181], [84, 135, 216], [85, 208, 248], [87, 125, 83], [91, 54, 152], [97, 229, 71], [98, 35, 23], [101, 78, 191], [101, 214, 112], [107, 136, 36], [108, 102, 159], [108, 161, 108], [111, 119, 13], [112, 166, 28], [115, 32, 173], [116, 148, 40], [117, 16, 161], [117, 34, 16], [119, 51, 194], [125, 114, 71], [125, 189, 145], [126, 134, 219], [128, 5, 58], [136, 174, 57], [142, 79, 110], [142, 232, 186], [142, 248, 109], [150, 222, 80], [151, 111, 29], [160, 122, 135], [161, 133, 104], [169, 36, 121], [172, 52, 47], [176, 135, 22], [181, 216, 210], [185, 157, 122], [194, 49, 183], [197, 195, 239], [202, 67, 153], [204, 185, 112], [204, 191, 224], [205, 137, 33], [206, 61, 126], [216, 93, 142], [226, 50, 25], [229, 142, 3], [231, 61, 126], [232, 1, 134], [232, 146, 216], [234, 161, 37], [235, 63, 193], [236, 127, 38], [236, 194, 138], [239, 27, 50], [242, 208, 97], [246, 109, 205], [249, 79, 97], [250, 9, 57]]\n",
            "INFO: Scanning mask files to determine class weights\n",
            "  0% 0/1000 [00:00<?, ?it/s]\n",
            "INFO: Creating dataset with 1000 examples\n",
            "INFO: Scanning mask files to determine unique values\n",
            "  0% 0/1000 [00:00<?, ?it/s]\n",
            "multiprocessing.pool.RemoteTraceback: \n",
            "\"\"\"\n",
            "multiprocessing.pool.RemoteTraceback: \n",
            "\"\"\"\n",
            "Traceback (most recent call last):\n",
            "  File \"/usr/lib/python3.9/multiprocessing/pool.py\", line 125, in worker\n",
            "    result = (True, func(*args, **kwds))\n",
            "  File \"/content/unet_coco_v1/utils/data_loading.py\", line 53, in count_mask_values\n",
            "    counts[unique] += count\n",
            "IndexError: index 114 is out of bounds for axis 0 with size 91\n",
            "\"\"\"\n",
            "\n",
            "The above exception was the direct cause of the following exception:\n",
            "\n",
            "Traceback (most recent call last):\n",
            "  File \"/content/unet_coco_v1/train_unet_coco.py\", line 80, in train_model\n",
            "    dataset = CarvanaDataset(dir_img, dir_mask, img_scale)\n",
            "  File \"/content/unet_coco_v1/utils/data_loading.py\", line 160, in __init__\n",
            "    super().__init__(images_dir, mask_dir, scale, mask_suffix='_mask')\n",
            "  File \"/content/unet_coco_v1/utils/data_loading.py\", line 83, in __init__\n",
            "    counts_list = list(tqdm(\n",
            "  File \"/usr/local/lib/python3.9/dist-packages/tqdm/std.py\", line 1178, in __iter__\n",
            "    for obj in iterable:\n",
            "  File \"/usr/lib/python3.9/multiprocessing/pool.py\", line 870, in next\n",
            "    raise value\n",
            "IndexError: index 114 is out of bounds for axis 0 with size 91\n",
            "\n",
            "During handling of the above exception, another exception occurred:\n",
            "\n",
            "Traceback (most recent call last):\n",
            "  File \"/usr/lib/python3.9/multiprocessing/pool.py\", line 125, in worker\n",
            "    result = (True, func(*args, **kwds))\n",
            "  File \"/content/unet_coco_v1/utils/data_loading.py\", line 35, in unique_mask_values\n",
            "    mask_file = list(mask_dir.glob(idx + mask_suffix + '.*'))[0]\n",
            "IndexError: list index out of range\n",
            "\"\"\"\n",
            "\n",
            "The above exception was the direct cause of the following exception:\n",
            "\n",
            "Traceback (most recent call last):\n",
            "  File \"/content/unet_coco_v1/train_unet_coco.py\", line 257, in <module>\n",
            "    train_model(\n",
            "  File \"/content/unet_coco_v1/train_unet_coco.py\", line 82, in train_model\n",
            "    dataset = BasicDataset(dir_img, dir_mask, img_scale)\n",
            "  File \"/content/unet_coco_v1/utils/data_loading.py\", line 73, in __init__\n",
            "    unique = list(tqdm(\n",
            "  File \"/usr/local/lib/python3.9/dist-packages/tqdm/std.py\", line 1178, in __iter__\n",
            "    for obj in iterable:\n",
            "  File \"/usr/lib/python3.9/multiprocessing/pool.py\", line 870, in next\n",
            "    raise value\n",
            "IndexError: list index out of range\n",
            "2023-04-17 08:15:11,885 - wandb.wandb_agent - INFO - Cleaning up finished run: q4yghy0f\n",
            "\u001b[34m\u001b[1mwandb\u001b[0m: Waiting for W&B process to finish... \u001b[31m(failed 1).\u001b[0m Press Control-C to abort syncing.\n",
            "\u001b[34m\u001b[1mwandb\u001b[0m: Ctrl-c pressed. Waiting for runs to end. Press ctrl-c again to terminate them.\n",
            "\u001b[34m\u001b[1mwandb\u001b[0m: Terminating and syncing runs. Press ctrl-c to kill.\n"
          ]
        },
        {
          "output_type": "error",
          "ename": "KeyboardInterrupt",
          "evalue": "ignored",
          "traceback": [
            "\u001b[0;31m---------------------------------------------------------------------------\u001b[0m",
            "\u001b[0;31mKeyboardInterrupt\u001b[0m                         Traceback (most recent call last)",
            "\u001b[0;32m<ipython-input-39-3fad98895ce6>\u001b[0m in \u001b[0;36m<cell line: 1>\u001b[0;34m()\u001b[0m\n\u001b[0;32m----> 1\u001b[0;31m \u001b[0mget_ipython\u001b[0m\u001b[0;34m(\u001b[0m\u001b[0;34m)\u001b[0m\u001b[0;34m.\u001b[0m\u001b[0msystem\u001b[0m\u001b[0;34m(\u001b[0m\u001b[0;34m'wandb agent pes_mtech_jun21_g3/unet_coco_v1/b50odsk0'\u001b[0m\u001b[0;34m)\u001b[0m\u001b[0;34m\u001b[0m\u001b[0;34m\u001b[0m\u001b[0m\n\u001b[0m",
            "\u001b[0;32m/usr/local/lib/python3.9/dist-packages/google/colab/_shell.py\u001b[0m in \u001b[0;36msystem\u001b[0;34m(self, *args, **kwargs)\u001b[0m\n\u001b[1;32m     96\u001b[0m       \u001b[0mkwargs\u001b[0m\u001b[0;34m.\u001b[0m\u001b[0mupdate\u001b[0m\u001b[0;34m(\u001b[0m\u001b[0;34m{\u001b[0m\u001b[0;34m'also_return_output'\u001b[0m\u001b[0;34m:\u001b[0m \u001b[0;32mTrue\u001b[0m\u001b[0;34m}\u001b[0m\u001b[0;34m)\u001b[0m\u001b[0;34m\u001b[0m\u001b[0;34m\u001b[0m\u001b[0m\n\u001b[1;32m     97\u001b[0m \u001b[0;34m\u001b[0m\u001b[0m\n\u001b[0;32m---> 98\u001b[0;31m     \u001b[0moutput\u001b[0m \u001b[0;34m=\u001b[0m \u001b[0m_system_commands\u001b[0m\u001b[0;34m.\u001b[0m\u001b[0m_system_compat\u001b[0m\u001b[0;34m(\u001b[0m\u001b[0mself\u001b[0m\u001b[0;34m,\u001b[0m \u001b[0;34m*\u001b[0m\u001b[0margs\u001b[0m\u001b[0;34m,\u001b[0m \u001b[0;34m**\u001b[0m\u001b[0mkwargs\u001b[0m\u001b[0;34m)\u001b[0m  \u001b[0;31m# pylint:disable=protected-access\u001b[0m\u001b[0;34m\u001b[0m\u001b[0;34m\u001b[0m\u001b[0m\n\u001b[0m\u001b[1;32m     99\u001b[0m \u001b[0;34m\u001b[0m\u001b[0m\n\u001b[1;32m    100\u001b[0m     \u001b[0;32mif\u001b[0m \u001b[0mpip_warn\u001b[0m\u001b[0;34m:\u001b[0m\u001b[0;34m\u001b[0m\u001b[0;34m\u001b[0m\u001b[0m\n",
            "\u001b[0;32m/usr/local/lib/python3.9/dist-packages/google/colab/_system_commands.py\u001b[0m in \u001b[0;36m_system_compat\u001b[0;34m(shell, cmd, also_return_output)\u001b[0m\n\u001b[1;32m    451\u001b[0m   \u001b[0;31m# is expected to call this function, thus adding one level of nesting to the\u001b[0m\u001b[0;34m\u001b[0m\u001b[0;34m\u001b[0m\u001b[0m\n\u001b[1;32m    452\u001b[0m   \u001b[0;31m# stack.\u001b[0m\u001b[0;34m\u001b[0m\u001b[0;34m\u001b[0m\u001b[0m\n\u001b[0;32m--> 453\u001b[0;31m   result = _run_command(\n\u001b[0m\u001b[1;32m    454\u001b[0m       \u001b[0mshell\u001b[0m\u001b[0;34m.\u001b[0m\u001b[0mvar_expand\u001b[0m\u001b[0;34m(\u001b[0m\u001b[0mcmd\u001b[0m\u001b[0;34m,\u001b[0m \u001b[0mdepth\u001b[0m\u001b[0;34m=\u001b[0m\u001b[0;36m2\u001b[0m\u001b[0;34m)\u001b[0m\u001b[0;34m,\u001b[0m \u001b[0mclear_streamed_output\u001b[0m\u001b[0;34m=\u001b[0m\u001b[0;32mFalse\u001b[0m\u001b[0;34m\u001b[0m\u001b[0;34m\u001b[0m\u001b[0m\n\u001b[1;32m    455\u001b[0m   )\n",
            "\u001b[0;32m/usr/local/lib/python3.9/dist-packages/google/colab/_system_commands.py\u001b[0m in \u001b[0;36m_run_command\u001b[0;34m(cmd, clear_streamed_output)\u001b[0m\n\u001b[1;32m    201\u001b[0m       \u001b[0mos\u001b[0m\u001b[0;34m.\u001b[0m\u001b[0mclose\u001b[0m\u001b[0;34m(\u001b[0m\u001b[0mchild_pty\u001b[0m\u001b[0;34m)\u001b[0m\u001b[0;34m\u001b[0m\u001b[0;34m\u001b[0m\u001b[0m\n\u001b[1;32m    202\u001b[0m \u001b[0;34m\u001b[0m\u001b[0m\n\u001b[0;32m--> 203\u001b[0;31m       \u001b[0;32mreturn\u001b[0m \u001b[0m_monitor_process\u001b[0m\u001b[0;34m(\u001b[0m\u001b[0mparent_pty\u001b[0m\u001b[0;34m,\u001b[0m \u001b[0mepoll\u001b[0m\u001b[0;34m,\u001b[0m \u001b[0mp\u001b[0m\u001b[0;34m,\u001b[0m \u001b[0mcmd\u001b[0m\u001b[0;34m,\u001b[0m \u001b[0mupdate_stdin_widget\u001b[0m\u001b[0;34m)\u001b[0m\u001b[0;34m\u001b[0m\u001b[0;34m\u001b[0m\u001b[0m\n\u001b[0m\u001b[1;32m    204\u001b[0m   \u001b[0;32mfinally\u001b[0m\u001b[0;34m:\u001b[0m\u001b[0;34m\u001b[0m\u001b[0;34m\u001b[0m\u001b[0m\n\u001b[1;32m    205\u001b[0m     \u001b[0mepoll\u001b[0m\u001b[0;34m.\u001b[0m\u001b[0mclose\u001b[0m\u001b[0;34m(\u001b[0m\u001b[0;34m)\u001b[0m\u001b[0;34m\u001b[0m\u001b[0;34m\u001b[0m\u001b[0m\n",
            "\u001b[0;32m/usr/local/lib/python3.9/dist-packages/google/colab/_system_commands.py\u001b[0m in \u001b[0;36m_monitor_process\u001b[0;34m(parent_pty, epoll, p, cmd, update_stdin_widget)\u001b[0m\n\u001b[1;32m    231\u001b[0m   \u001b[0;32mwhile\u001b[0m \u001b[0;32mTrue\u001b[0m\u001b[0;34m:\u001b[0m\u001b[0;34m\u001b[0m\u001b[0;34m\u001b[0m\u001b[0m\n\u001b[1;32m    232\u001b[0m     \u001b[0;32mtry\u001b[0m\u001b[0;34m:\u001b[0m\u001b[0;34m\u001b[0m\u001b[0;34m\u001b[0m\u001b[0m\n\u001b[0;32m--> 233\u001b[0;31m       \u001b[0mresult\u001b[0m \u001b[0;34m=\u001b[0m \u001b[0m_poll_process\u001b[0m\u001b[0;34m(\u001b[0m\u001b[0mparent_pty\u001b[0m\u001b[0;34m,\u001b[0m \u001b[0mepoll\u001b[0m\u001b[0;34m,\u001b[0m \u001b[0mp\u001b[0m\u001b[0;34m,\u001b[0m \u001b[0mcmd\u001b[0m\u001b[0;34m,\u001b[0m \u001b[0mdecoder\u001b[0m\u001b[0;34m,\u001b[0m \u001b[0mstate\u001b[0m\u001b[0;34m)\u001b[0m\u001b[0;34m\u001b[0m\u001b[0;34m\u001b[0m\u001b[0m\n\u001b[0m\u001b[1;32m    234\u001b[0m       \u001b[0;32mif\u001b[0m \u001b[0mresult\u001b[0m \u001b[0;32mis\u001b[0m \u001b[0;32mnot\u001b[0m \u001b[0;32mNone\u001b[0m\u001b[0;34m:\u001b[0m\u001b[0;34m\u001b[0m\u001b[0;34m\u001b[0m\u001b[0m\n\u001b[1;32m    235\u001b[0m         \u001b[0;32mreturn\u001b[0m \u001b[0mresult\u001b[0m\u001b[0;34m\u001b[0m\u001b[0;34m\u001b[0m\u001b[0m\n",
            "\u001b[0;32m/usr/local/lib/python3.9/dist-packages/google/colab/_system_commands.py\u001b[0m in \u001b[0;36m_poll_process\u001b[0;34m(parent_pty, epoll, p, cmd, decoder, state)\u001b[0m\n\u001b[1;32m    279\u001b[0m   \u001b[0moutput_available\u001b[0m \u001b[0;34m=\u001b[0m \u001b[0;32mFalse\u001b[0m\u001b[0;34m\u001b[0m\u001b[0;34m\u001b[0m\u001b[0m\n\u001b[1;32m    280\u001b[0m \u001b[0;34m\u001b[0m\u001b[0m\n\u001b[0;32m--> 281\u001b[0;31m   \u001b[0mevents\u001b[0m \u001b[0;34m=\u001b[0m \u001b[0mepoll\u001b[0m\u001b[0;34m.\u001b[0m\u001b[0mpoll\u001b[0m\u001b[0;34m(\u001b[0m\u001b[0;34m)\u001b[0m\u001b[0;34m\u001b[0m\u001b[0;34m\u001b[0m\u001b[0m\n\u001b[0m\u001b[1;32m    282\u001b[0m   \u001b[0minput_events\u001b[0m \u001b[0;34m=\u001b[0m \u001b[0;34m[\u001b[0m\u001b[0;34m]\u001b[0m\u001b[0;34m\u001b[0m\u001b[0;34m\u001b[0m\u001b[0m\n\u001b[1;32m    283\u001b[0m   \u001b[0;32mfor\u001b[0m \u001b[0m_\u001b[0m\u001b[0;34m,\u001b[0m \u001b[0mevent\u001b[0m \u001b[0;32min\u001b[0m \u001b[0mevents\u001b[0m\u001b[0;34m:\u001b[0m\u001b[0;34m\u001b[0m\u001b[0;34m\u001b[0m\u001b[0m\n",
            "\u001b[0;31mKeyboardInterrupt\u001b[0m: "
          ]
        }
      ],
      "source": [
        "!wandb agent pes_mtech_jun21_g3/unet_coco_v1/b50odsk0"
      ]
    },
    {
      "cell_type": "code",
      "source": [
        "import numpy as np\n",
        "import cv2\n",
        "from pycocotools.coco import COCO\n",
        "\n",
        "# Path to the COCO dataset annotations file\n",
        "ann_file = '/content/data/coco/annotations/annotations/instances_train2017.json'\n",
        "\n",
        "# Path to the COCO dataset images folder\n",
        "img_folder = '/content/data/coco/train/train2017/'\n",
        "\n",
        "# Load the COCO annotations\n",
        "coco = COCO(ann_file)\n",
        "\n",
        "# Get the category IDs and names\n",
        "cat_ids = coco.getCatIds()\n",
        "cat_names = [coco.loadCats(id)[0]['name'] for id in cat_ids]\n",
        "\n",
        "# Define the RGB colors for each category\n",
        "colors = np.random.randint(0, 255, (len(cat_ids), 3), dtype=np.uint8)\n",
        "\n",
        "# Iterate over the images\n",
        "img_size = 0\n",
        "for img_id in coco.imgs:\n",
        "    # Load the image\n",
        "    if img_size > 5000:\n",
        "      break\n",
        "    img_path = img_folder + '/' + coco.imgs[img_id]['file_name']\n",
        "    img = cv2.imread(img_path)\n",
        "\n",
        "    # Create a binary mask for each object category\n",
        "    binary_masks = []\n",
        "    for ann in coco.imgToAnns[img_id]:\n",
        "        cat_id = ann['category_id']\n",
        "        mask = coco.annToMask(ann)\n",
        "        binary_mask = np.zeros_like(mask, dtype=np.uint8)\n",
        "        binary_mask[mask == 1] = 1\n",
        "        binary_masks.append((binary_mask, cat_id))\n",
        "\n",
        "    # Combine the binary masks into a single mask\n",
        "    mask = np.zeros_like(binary_mask, dtype=np.uint8)\n",
        "    for binary_mask, cat_id in binary_masks:\n",
        "        mask[binary_mask == 1] = cat_id\n",
        "\n",
        "    # Resize the mask to match the size of the image\n",
        "    mask = cv2.resize(mask, (img.shape[1], img.shape[0]), interpolation=cv2.INTER_NEAREST)\n",
        "\n",
        "    # Convert the mask to an RGB mask\n",
        "    rgb_mask = np.zeros_like(img)\n",
        "    for i, color in enumerate(colors):\n",
        "        rgb_mask[mask == cat_ids[i]] = color\n",
        "\n",
        "    # Save the RGB mask\n",
        "    os.makedirs('/content/data/coco/mask/', exist_ok=True)\n",
        "    mask_path = '/content/data/coco/mask/' + coco.imgs[img_id]['file_name']\n",
        "    cv2.imwrite(mask_path, rgb_mask)\n",
        "    img_size +=1\n"
      ],
      "metadata": {
        "colab": {
          "base_uri": "https://localhost:8080/"
        },
        "id": "PNevDD6dVbA-",
        "outputId": "bf831a6d-dc95-4e66-a78e-62fb3dee2923"
      },
      "execution_count": 44,
      "outputs": [
        {
          "output_type": "stream",
          "name": "stdout",
          "text": [
            "loading annotations into memory...\n",
            "Done (t=16.28s)\n",
            "creating index...\n",
            "index created!\n"
          ]
        }
      ]
    },
    {
      "cell_type": "code",
      "source": [
        "import os\n",
        "import shutil\n",
        "from PIL import Image, ImageChops\n",
        "from pycocotools.coco import COCO\n",
        "import numpy as np\n",
        "import random\n",
        "\n",
        "\n",
        "def create_colormap(max_cat_id):\n",
        "    random.seed(42)  # Set the random seed for reproducibility\n",
        "    colormap = np.zeros((max_cat_id + 1, 3), dtype=int)\n",
        "    for i in range(max_cat_id + 1):\n",
        "        colormap[i] = [random.randint(0, 255), random.randint(0, 255), random.randint(0, 255)]\n",
        "    \n",
        "    colormap[0] = [0,0,0]\n",
        "    return colormap\n",
        "\n",
        "\n",
        "def apply_colormap(mask, colormap):\n",
        "    h, w = mask.shape\n",
        "    #print(mask)\n",
        "    colored_mask = np.zeros((h, w, 3), dtype=np.uint8)\n",
        "    for i in range(h):\n",
        "      for j in range(w):\n",
        "        c_idx = mask[i, j] if mask[i, j] < colormap.shape[0] else 0\n",
        "        #if mask[i, j] != c_idx:\n",
        "          #print( mask[i, j], c_idx)\n",
        "        colored_mask[i, j] = colormap[c_idx]\n",
        "    return colored_mask\n",
        "\n",
        "\n",
        "def prepare_mini_coco(data_dir, imgs_folder, masks_folder, num_samples, colormap, cat_id_mapping):\n",
        "    os.makedirs(imgs_folder, exist_ok=True)\n",
        "    os.makedirs(masks_folder, exist_ok=True)\n",
        "\n",
        "    coco = COCO(os.path.join(data_dir, \"annotations/annotations/instances_train2017.json\"))\n",
        "    img_ids = coco.getImgIds()[:num_samples]\n",
        "\n",
        "    for img_id in img_ids:\n",
        "        img_data = coco.loadImgs(img_id)[0]\n",
        "        ann_ids = coco.getAnnIds(imgIds=img_id)\n",
        "        anns = coco.loadAnns(ann_ids)\n",
        "        mask = Image.new(\"L\", (img_data[\"width\"], img_data[\"height\"]))\n",
        "\n",
        "        for ann in anns:\n",
        "            mask_ann = Image.fromarray((coco.annToMask(ann) * ann[\"category_id\"]).astype(\"uint8\"))\n",
        "            mask = ImageChops.add(mask, mask_ann)\n",
        "\n",
        "        colored_mask = apply_colormap(np.array(mask), colormap)\n",
        "\n",
        "        img_file = os.path.join(data_dir, \"train/train2017\", img_data[\"file_name\"])\n",
        "        mask_file = os.path.join(masks_folder, f\"{img_data['file_name'].split('.')[0]}_mask.png\")\n",
        "\n",
        "        shutil.copy(img_file, os.path.join(imgs_folder, img_data[\"file_name\"]))\n",
        "        Image.fromarray(colored_mask).save(mask_file)\n",
        "\n",
        "data_dir = \"data/coco\"\n",
        "imgs_folder = \"/content/unet_coco_v1/data/imgs\"\n",
        "masks_folder = \"/content/unet_coco_v1/data/masks\"\n",
        "num_samples = 1000\n",
        "\n",
        "coco = COCO(os.path.join(data_dir, \"annotations/annotations/instances_train2017.json\"))\n",
        "cat_ids = coco.getCatIds()\n",
        "cat_id_mapping = {cat_id: i for i, cat_id in enumerate(cat_ids)}\n",
        "\n",
        "max_cat_id = max(cat_ids)\n",
        "print(cat_ids)\n",
        "colormap = create_colormap(max_cat_id)\n",
        "print(colormap[0])\n",
        "\n",
        "prepare_mini_coco(data_dir, imgs_folder, masks_folder, num_samples, colormap, cat_id_mapping)\n"
      ],
      "metadata": {
        "colab": {
          "base_uri": "https://localhost:8080/"
        },
        "id": "ySm_l7K1BC0k",
        "outputId": "63d6c0f9-6991-4ea6-d6bc-0ce0b18bef98"
      },
      "execution_count": 31,
      "outputs": [
        {
          "output_type": "stream",
          "name": "stdout",
          "text": [
            "loading annotations into memory...\n",
            "Done (t=23.50s)\n",
            "creating index...\n",
            "index created!\n",
            "[1, 2, 3, 4, 5, 6, 7, 8, 9, 10, 11, 13, 14, 15, 16, 17, 18, 19, 20, 21, 22, 23, 24, 25, 27, 28, 31, 32, 33, 34, 35, 36, 37, 38, 39, 40, 41, 42, 43, 44, 46, 47, 48, 49, 50, 51, 52, 53, 54, 55, 56, 57, 58, 59, 60, 61, 62, 63, 64, 65, 67, 70, 72, 73, 74, 75, 76, 77, 78, 79, 80, 81, 82, 84, 85, 86, 87, 88, 89, 90]\n",
            "[0 0 0]\n",
            "loading annotations into memory...\n",
            "Done (t=16.16s)\n",
            "creating index...\n",
            "index created!\n"
          ]
        }
      ]
    }
  ],
  "metadata": {
    "accelerator": "GPU",
    "colab": {
      "machine_shape": "hm",
      "provenance": []
    },
    "gpuClass": "premium",
    "kernelspec": {
      "display_name": "Python 3",
      "language": "python",
      "name": "python3"
    },
    "language_info": {
      "codemirror_mode": {
        "name": "ipython",
        "version": 3
      },
      "file_extension": ".py",
      "mimetype": "text/x-python",
      "name": "python",
      "nbconvert_exporter": "python",
      "pygments_lexer": "ipython3",
      "version": "3.8.8"
    }
  },
  "nbformat": 4,
  "nbformat_minor": 0
}